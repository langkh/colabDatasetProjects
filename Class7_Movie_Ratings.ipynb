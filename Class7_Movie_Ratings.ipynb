{
  "nbformat": 4,
  "nbformat_minor": 0,
  "metadata": {
    "colab": {
      "provenance": [],
      "authorship_tag": "ABX9TyMKyVF3244lu9BojIRwH4dF",
      "include_colab_link": true
    },
    "kernelspec": {
      "name": "python3",
      "display_name": "Python 3"
    },
    "language_info": {
      "name": "python"
    }
  },
  "cells": [
    {
      "cell_type": "markdown",
      "metadata": {
        "id": "view-in-github",
        "colab_type": "text"
      },
      "source": [
        "<a href=\"https://colab.research.google.com/github/langkh/colabDatasetProjects/blob/main/Class7_Movie_Ratings.ipynb\" target=\"_parent\"><img src=\"https://colab.research.google.com/assets/colab-badge.svg\" alt=\"Open In Colab\"/></a>"
      ]
    },
    {
      "cell_type": "code",
      "metadata": {
        "id": "0Kn5sRZkWwET"
      },
      "source": [
        "import pandas as pd"
      ],
      "execution_count": null,
      "outputs": []
    },
    {
      "cell_type": "code",
      "metadata": {
        "id": "wk344-EIXANR"
      },
      "source": [
        "path_user = \"https://raw.githubusercontent.com/yumio/data/main/ml-100k/ml-100k/u.user\""
      ],
      "execution_count": null,
      "outputs": []
    },
    {
      "cell_type": "code",
      "metadata": {
        "id": "yIGNyMTVXHp-"
      },
      "source": [
        "unames = ['user_id','age','gender','occupation','zip']"
      ],
      "execution_count": null,
      "outputs": []
    },
    {
      "cell_type": "code",
      "metadata": {
        "id": "VZNLKzsnXqr2"
      },
      "source": [
        "users = pd.read_table(path_user, sep='|',header=None, names=unames)"
      ],
      "execution_count": null,
      "outputs": []
    },
    {
      "cell_type": "code",
      "metadata": {
        "colab": {
          "base_uri": "https://localhost:8080/"
        },
        "id": "CEh8XU47X3nN",
        "outputId": "1c0ac024-6842-4716-fb7e-3041c77cdbaa"
      },
      "source": [
        "users.info()"
      ],
      "execution_count": null,
      "outputs": [
        {
          "output_type": "stream",
          "name": "stdout",
          "text": [
            "<class 'pandas.core.frame.DataFrame'>\n",
            "RangeIndex: 943 entries, 0 to 942\n",
            "Data columns (total 5 columns):\n",
            " #   Column      Non-Null Count  Dtype \n",
            "---  ------      --------------  ----- \n",
            " 0   user_id     943 non-null    int64 \n",
            " 1   age         943 non-null    int64 \n",
            " 2   gender      943 non-null    object\n",
            " 3   occupation  943 non-null    object\n",
            " 4   zip         943 non-null    object\n",
            "dtypes: int64(2), object(3)\n",
            "memory usage: 37.0+ KB\n"
          ]
        }
      ]
    },
    {
      "cell_type": "code",
      "metadata": {
        "id": "E-jr2pNjYp20",
        "colab": {
          "base_uri": "https://localhost:8080/",
          "height": 423
        },
        "outputId": "fe8e29b6-ec06-4d48-8c76-c6bd7dd1f90b"
      },
      "source": [
        "users"
      ],
      "execution_count": null,
      "outputs": [
        {
          "output_type": "execute_result",
          "data": {
            "text/html": [
              "<div>\n",
              "<style scoped>\n",
              "    .dataframe tbody tr th:only-of-type {\n",
              "        vertical-align: middle;\n",
              "    }\n",
              "\n",
              "    .dataframe tbody tr th {\n",
              "        vertical-align: top;\n",
              "    }\n",
              "\n",
              "    .dataframe thead th {\n",
              "        text-align: right;\n",
              "    }\n",
              "</style>\n",
              "<table border=\"1\" class=\"dataframe\">\n",
              "  <thead>\n",
              "    <tr style=\"text-align: right;\">\n",
              "      <th></th>\n",
              "      <th>user_id</th>\n",
              "      <th>age</th>\n",
              "      <th>gender</th>\n",
              "      <th>occupation</th>\n",
              "      <th>zip</th>\n",
              "    </tr>\n",
              "  </thead>\n",
              "  <tbody>\n",
              "    <tr>\n",
              "      <th>0</th>\n",
              "      <td>1</td>\n",
              "      <td>24</td>\n",
              "      <td>M</td>\n",
              "      <td>technician</td>\n",
              "      <td>85711</td>\n",
              "    </tr>\n",
              "    <tr>\n",
              "      <th>1</th>\n",
              "      <td>2</td>\n",
              "      <td>53</td>\n",
              "      <td>F</td>\n",
              "      <td>other</td>\n",
              "      <td>94043</td>\n",
              "    </tr>\n",
              "    <tr>\n",
              "      <th>2</th>\n",
              "      <td>3</td>\n",
              "      <td>23</td>\n",
              "      <td>M</td>\n",
              "      <td>writer</td>\n",
              "      <td>32067</td>\n",
              "    </tr>\n",
              "    <tr>\n",
              "      <th>3</th>\n",
              "      <td>4</td>\n",
              "      <td>24</td>\n",
              "      <td>M</td>\n",
              "      <td>technician</td>\n",
              "      <td>43537</td>\n",
              "    </tr>\n",
              "    <tr>\n",
              "      <th>4</th>\n",
              "      <td>5</td>\n",
              "      <td>33</td>\n",
              "      <td>F</td>\n",
              "      <td>other</td>\n",
              "      <td>15213</td>\n",
              "    </tr>\n",
              "    <tr>\n",
              "      <th>...</th>\n",
              "      <td>...</td>\n",
              "      <td>...</td>\n",
              "      <td>...</td>\n",
              "      <td>...</td>\n",
              "      <td>...</td>\n",
              "    </tr>\n",
              "    <tr>\n",
              "      <th>938</th>\n",
              "      <td>939</td>\n",
              "      <td>26</td>\n",
              "      <td>F</td>\n",
              "      <td>student</td>\n",
              "      <td>33319</td>\n",
              "    </tr>\n",
              "    <tr>\n",
              "      <th>939</th>\n",
              "      <td>940</td>\n",
              "      <td>32</td>\n",
              "      <td>M</td>\n",
              "      <td>administrator</td>\n",
              "      <td>02215</td>\n",
              "    </tr>\n",
              "    <tr>\n",
              "      <th>940</th>\n",
              "      <td>941</td>\n",
              "      <td>20</td>\n",
              "      <td>M</td>\n",
              "      <td>student</td>\n",
              "      <td>97229</td>\n",
              "    </tr>\n",
              "    <tr>\n",
              "      <th>941</th>\n",
              "      <td>942</td>\n",
              "      <td>48</td>\n",
              "      <td>F</td>\n",
              "      <td>librarian</td>\n",
              "      <td>78209</td>\n",
              "    </tr>\n",
              "    <tr>\n",
              "      <th>942</th>\n",
              "      <td>943</td>\n",
              "      <td>22</td>\n",
              "      <td>M</td>\n",
              "      <td>student</td>\n",
              "      <td>77841</td>\n",
              "    </tr>\n",
              "  </tbody>\n",
              "</table>\n",
              "<p>943 rows × 5 columns</p>\n",
              "</div>"
            ],
            "text/plain": [
              "     user_id  age gender     occupation    zip\n",
              "0          1   24      M     technician  85711\n",
              "1          2   53      F          other  94043\n",
              "2          3   23      M         writer  32067\n",
              "3          4   24      M     technician  43537\n",
              "4          5   33      F          other  15213\n",
              "..       ...  ...    ...            ...    ...\n",
              "938      939   26      F        student  33319\n",
              "939      940   32      M  administrator  02215\n",
              "940      941   20      M        student  97229\n",
              "941      942   48      F      librarian  78209\n",
              "942      943   22      M        student  77841\n",
              "\n",
              "[943 rows x 5 columns]"
            ]
          },
          "metadata": {},
          "execution_count": 6
        }
      ]
    },
    {
      "cell_type": "code",
      "metadata": {
        "id": "Fe0z9RaYZZlx"
      },
      "source": [
        "mnames = ['movie_id','title']"
      ],
      "execution_count": null,
      "outputs": []
    },
    {
      "cell_type": "code",
      "metadata": {
        "id": "sBANJhRVZfIR"
      },
      "source": [
        "path_movie = \"https://raw.githubusercontent.com/yumio/data/main/ml-100k/ml-100k/u.item\""
      ],
      "execution_count": null,
      "outputs": []
    },
    {
      "cell_type": "code",
      "metadata": {
        "id": "1A2c-JVhZfed"
      },
      "source": [
        "movies = pd.read_table(path_movie, sep ='|', header=None, engine = 'python', names = mnames, usecols = ['movie_id','title'], encoding='latin1')"
      ],
      "execution_count": null,
      "outputs": []
    },
    {
      "cell_type": "code",
      "metadata": {
        "id": "XAwGfQcwbnj9",
        "colab": {
          "base_uri": "https://localhost:8080/",
          "height": 423
        },
        "outputId": "d3cb0179-3848-4f03-ee89-e09d220bd6ec"
      },
      "source": [
        "movies"
      ],
      "execution_count": null,
      "outputs": [
        {
          "output_type": "execute_result",
          "data": {
            "text/html": [
              "<div>\n",
              "<style scoped>\n",
              "    .dataframe tbody tr th:only-of-type {\n",
              "        vertical-align: middle;\n",
              "    }\n",
              "\n",
              "    .dataframe tbody tr th {\n",
              "        vertical-align: top;\n",
              "    }\n",
              "\n",
              "    .dataframe thead th {\n",
              "        text-align: right;\n",
              "    }\n",
              "</style>\n",
              "<table border=\"1\" class=\"dataframe\">\n",
              "  <thead>\n",
              "    <tr style=\"text-align: right;\">\n",
              "      <th></th>\n",
              "      <th>movie_id</th>\n",
              "      <th>title</th>\n",
              "    </tr>\n",
              "  </thead>\n",
              "  <tbody>\n",
              "    <tr>\n",
              "      <th>0</th>\n",
              "      <td>1</td>\n",
              "      <td>Toy Story (1995)</td>\n",
              "    </tr>\n",
              "    <tr>\n",
              "      <th>1</th>\n",
              "      <td>2</td>\n",
              "      <td>GoldenEye (1995)</td>\n",
              "    </tr>\n",
              "    <tr>\n",
              "      <th>2</th>\n",
              "      <td>3</td>\n",
              "      <td>Four Rooms (1995)</td>\n",
              "    </tr>\n",
              "    <tr>\n",
              "      <th>3</th>\n",
              "      <td>4</td>\n",
              "      <td>Get Shorty (1995)</td>\n",
              "    </tr>\n",
              "    <tr>\n",
              "      <th>4</th>\n",
              "      <td>5</td>\n",
              "      <td>Copycat (1995)</td>\n",
              "    </tr>\n",
              "    <tr>\n",
              "      <th>...</th>\n",
              "      <td>...</td>\n",
              "      <td>...</td>\n",
              "    </tr>\n",
              "    <tr>\n",
              "      <th>1677</th>\n",
              "      <td>1678</td>\n",
              "      <td>Mat' i syn (1997)</td>\n",
              "    </tr>\n",
              "    <tr>\n",
              "      <th>1678</th>\n",
              "      <td>1679</td>\n",
              "      <td>B. Monkey (1998)</td>\n",
              "    </tr>\n",
              "    <tr>\n",
              "      <th>1679</th>\n",
              "      <td>1680</td>\n",
              "      <td>Sliding Doors (1998)</td>\n",
              "    </tr>\n",
              "    <tr>\n",
              "      <th>1680</th>\n",
              "      <td>1681</td>\n",
              "      <td>You So Crazy (1994)</td>\n",
              "    </tr>\n",
              "    <tr>\n",
              "      <th>1681</th>\n",
              "      <td>1682</td>\n",
              "      <td>Scream of Stone (Schrei aus Stein) (1991)</td>\n",
              "    </tr>\n",
              "  </tbody>\n",
              "</table>\n",
              "<p>1682 rows × 2 columns</p>\n",
              "</div>"
            ],
            "text/plain": [
              "      movie_id                                      title\n",
              "0            1                           Toy Story (1995)\n",
              "1            2                           GoldenEye (1995)\n",
              "2            3                          Four Rooms (1995)\n",
              "3            4                          Get Shorty (1995)\n",
              "4            5                             Copycat (1995)\n",
              "...        ...                                        ...\n",
              "1677      1678                          Mat' i syn (1997)\n",
              "1678      1679                           B. Monkey (1998)\n",
              "1679      1680                       Sliding Doors (1998)\n",
              "1680      1681                        You So Crazy (1994)\n",
              "1681      1682  Scream of Stone (Schrei aus Stein) (1991)\n",
              "\n",
              "[1682 rows x 2 columns]"
            ]
          },
          "metadata": {},
          "execution_count": 10
        }
      ]
    },
    {
      "cell_type": "code",
      "metadata": {
        "id": "YUtmxtF9aj0m"
      },
      "source": [
        "rnames = ['user_id','movie_id','rating','timestamp']"
      ],
      "execution_count": null,
      "outputs": []
    },
    {
      "cell_type": "code",
      "metadata": {
        "id": "rcPYXm5jbFZq"
      },
      "source": [
        "path_rating = \"https://raw.githubusercontent.com/yumio/data/main/ml-100k/ml-100k/u.data\""
      ],
      "execution_count": null,
      "outputs": []
    },
    {
      "cell_type": "code",
      "metadata": {
        "id": "owkdIPe1bOdR"
      },
      "source": [
        "ratings = pd.read_table(path_rating, sep = \"\\t\", header = None, names = rnames)"
      ],
      "execution_count": null,
      "outputs": []
    },
    {
      "cell_type": "code",
      "metadata": {
        "colab": {
          "base_uri": "https://localhost:8080/",
          "height": 423
        },
        "id": "TBhypIV6b3mB",
        "outputId": "98e78a91-97a0-4959-becf-4ada45203007"
      },
      "source": [
        "ratings"
      ],
      "execution_count": null,
      "outputs": [
        {
          "output_type": "execute_result",
          "data": {
            "text/html": [
              "<div>\n",
              "<style scoped>\n",
              "    .dataframe tbody tr th:only-of-type {\n",
              "        vertical-align: middle;\n",
              "    }\n",
              "\n",
              "    .dataframe tbody tr th {\n",
              "        vertical-align: top;\n",
              "    }\n",
              "\n",
              "    .dataframe thead th {\n",
              "        text-align: right;\n",
              "    }\n",
              "</style>\n",
              "<table border=\"1\" class=\"dataframe\">\n",
              "  <thead>\n",
              "    <tr style=\"text-align: right;\">\n",
              "      <th></th>\n",
              "      <th>user_id</th>\n",
              "      <th>movie_id</th>\n",
              "      <th>rating</th>\n",
              "      <th>timestamp</th>\n",
              "    </tr>\n",
              "  </thead>\n",
              "  <tbody>\n",
              "    <tr>\n",
              "      <th>0</th>\n",
              "      <td>196</td>\n",
              "      <td>242</td>\n",
              "      <td>3</td>\n",
              "      <td>881250949</td>\n",
              "    </tr>\n",
              "    <tr>\n",
              "      <th>1</th>\n",
              "      <td>186</td>\n",
              "      <td>302</td>\n",
              "      <td>3</td>\n",
              "      <td>891717742</td>\n",
              "    </tr>\n",
              "    <tr>\n",
              "      <th>2</th>\n",
              "      <td>22</td>\n",
              "      <td>377</td>\n",
              "      <td>1</td>\n",
              "      <td>878887116</td>\n",
              "    </tr>\n",
              "    <tr>\n",
              "      <th>3</th>\n",
              "      <td>244</td>\n",
              "      <td>51</td>\n",
              "      <td>2</td>\n",
              "      <td>880606923</td>\n",
              "    </tr>\n",
              "    <tr>\n",
              "      <th>4</th>\n",
              "      <td>166</td>\n",
              "      <td>346</td>\n",
              "      <td>1</td>\n",
              "      <td>886397596</td>\n",
              "    </tr>\n",
              "    <tr>\n",
              "      <th>...</th>\n",
              "      <td>...</td>\n",
              "      <td>...</td>\n",
              "      <td>...</td>\n",
              "      <td>...</td>\n",
              "    </tr>\n",
              "    <tr>\n",
              "      <th>99995</th>\n",
              "      <td>880</td>\n",
              "      <td>476</td>\n",
              "      <td>3</td>\n",
              "      <td>880175444</td>\n",
              "    </tr>\n",
              "    <tr>\n",
              "      <th>99996</th>\n",
              "      <td>716</td>\n",
              "      <td>204</td>\n",
              "      <td>5</td>\n",
              "      <td>879795543</td>\n",
              "    </tr>\n",
              "    <tr>\n",
              "      <th>99997</th>\n",
              "      <td>276</td>\n",
              "      <td>1090</td>\n",
              "      <td>1</td>\n",
              "      <td>874795795</td>\n",
              "    </tr>\n",
              "    <tr>\n",
              "      <th>99998</th>\n",
              "      <td>13</td>\n",
              "      <td>225</td>\n",
              "      <td>2</td>\n",
              "      <td>882399156</td>\n",
              "    </tr>\n",
              "    <tr>\n",
              "      <th>99999</th>\n",
              "      <td>12</td>\n",
              "      <td>203</td>\n",
              "      <td>3</td>\n",
              "      <td>879959583</td>\n",
              "    </tr>\n",
              "  </tbody>\n",
              "</table>\n",
              "<p>100000 rows × 4 columns</p>\n",
              "</div>"
            ],
            "text/plain": [
              "       user_id  movie_id  rating  timestamp\n",
              "0          196       242       3  881250949\n",
              "1          186       302       3  891717742\n",
              "2           22       377       1  878887116\n",
              "3          244        51       2  880606923\n",
              "4          166       346       1  886397596\n",
              "...        ...       ...     ...        ...\n",
              "99995      880       476       3  880175444\n",
              "99996      716       204       5  879795543\n",
              "99997      276      1090       1  874795795\n",
              "99998       13       225       2  882399156\n",
              "99999       12       203       3  879959583\n",
              "\n",
              "[100000 rows x 4 columns]"
            ]
          },
          "metadata": {},
          "execution_count": 14
        }
      ]
    },
    {
      "cell_type": "code",
      "metadata": {
        "id": "wVRAp6npdsg2"
      },
      "source": [
        "df = pd.merge(pd.merge(ratings,users),movies)"
      ],
      "execution_count": null,
      "outputs": []
    },
    {
      "cell_type": "code",
      "metadata": {
        "colab": {
          "base_uri": "https://localhost:8080/",
          "height": 423
        },
        "id": "ZWRzneMIe1aK",
        "outputId": "dee4c6d9-d3b7-45cc-8ac7-ec741b9549b4"
      },
      "source": [
        "df"
      ],
      "execution_count": null,
      "outputs": [
        {
          "output_type": "execute_result",
          "data": {
            "text/html": [
              "<div>\n",
              "<style scoped>\n",
              "    .dataframe tbody tr th:only-of-type {\n",
              "        vertical-align: middle;\n",
              "    }\n",
              "\n",
              "    .dataframe tbody tr th {\n",
              "        vertical-align: top;\n",
              "    }\n",
              "\n",
              "    .dataframe thead th {\n",
              "        text-align: right;\n",
              "    }\n",
              "</style>\n",
              "<table border=\"1\" class=\"dataframe\">\n",
              "  <thead>\n",
              "    <tr style=\"text-align: right;\">\n",
              "      <th></th>\n",
              "      <th>user_id</th>\n",
              "      <th>movie_id</th>\n",
              "      <th>rating</th>\n",
              "      <th>timestamp</th>\n",
              "      <th>age</th>\n",
              "      <th>gender</th>\n",
              "      <th>occupation</th>\n",
              "      <th>zip</th>\n",
              "      <th>title</th>\n",
              "    </tr>\n",
              "  </thead>\n",
              "  <tbody>\n",
              "    <tr>\n",
              "      <th>0</th>\n",
              "      <td>196</td>\n",
              "      <td>242</td>\n",
              "      <td>3</td>\n",
              "      <td>881250949</td>\n",
              "      <td>49</td>\n",
              "      <td>M</td>\n",
              "      <td>writer</td>\n",
              "      <td>55105</td>\n",
              "      <td>Kolya (1996)</td>\n",
              "    </tr>\n",
              "    <tr>\n",
              "      <th>1</th>\n",
              "      <td>305</td>\n",
              "      <td>242</td>\n",
              "      <td>5</td>\n",
              "      <td>886307828</td>\n",
              "      <td>23</td>\n",
              "      <td>M</td>\n",
              "      <td>programmer</td>\n",
              "      <td>94086</td>\n",
              "      <td>Kolya (1996)</td>\n",
              "    </tr>\n",
              "    <tr>\n",
              "      <th>2</th>\n",
              "      <td>6</td>\n",
              "      <td>242</td>\n",
              "      <td>4</td>\n",
              "      <td>883268170</td>\n",
              "      <td>42</td>\n",
              "      <td>M</td>\n",
              "      <td>executive</td>\n",
              "      <td>98101</td>\n",
              "      <td>Kolya (1996)</td>\n",
              "    </tr>\n",
              "    <tr>\n",
              "      <th>3</th>\n",
              "      <td>234</td>\n",
              "      <td>242</td>\n",
              "      <td>4</td>\n",
              "      <td>891033261</td>\n",
              "      <td>60</td>\n",
              "      <td>M</td>\n",
              "      <td>retired</td>\n",
              "      <td>94702</td>\n",
              "      <td>Kolya (1996)</td>\n",
              "    </tr>\n",
              "    <tr>\n",
              "      <th>4</th>\n",
              "      <td>63</td>\n",
              "      <td>242</td>\n",
              "      <td>3</td>\n",
              "      <td>875747190</td>\n",
              "      <td>31</td>\n",
              "      <td>M</td>\n",
              "      <td>marketing</td>\n",
              "      <td>75240</td>\n",
              "      <td>Kolya (1996)</td>\n",
              "    </tr>\n",
              "    <tr>\n",
              "      <th>...</th>\n",
              "      <td>...</td>\n",
              "      <td>...</td>\n",
              "      <td>...</td>\n",
              "      <td>...</td>\n",
              "      <td>...</td>\n",
              "      <td>...</td>\n",
              "      <td>...</td>\n",
              "      <td>...</td>\n",
              "      <td>...</td>\n",
              "    </tr>\n",
              "    <tr>\n",
              "      <th>99995</th>\n",
              "      <td>863</td>\n",
              "      <td>1679</td>\n",
              "      <td>3</td>\n",
              "      <td>889289491</td>\n",
              "      <td>17</td>\n",
              "      <td>M</td>\n",
              "      <td>student</td>\n",
              "      <td>60089</td>\n",
              "      <td>B. Monkey (1998)</td>\n",
              "    </tr>\n",
              "    <tr>\n",
              "      <th>99996</th>\n",
              "      <td>863</td>\n",
              "      <td>1678</td>\n",
              "      <td>1</td>\n",
              "      <td>889289570</td>\n",
              "      <td>17</td>\n",
              "      <td>M</td>\n",
              "      <td>student</td>\n",
              "      <td>60089</td>\n",
              "      <td>Mat' i syn (1997)</td>\n",
              "    </tr>\n",
              "    <tr>\n",
              "      <th>99997</th>\n",
              "      <td>863</td>\n",
              "      <td>1680</td>\n",
              "      <td>2</td>\n",
              "      <td>889289570</td>\n",
              "      <td>17</td>\n",
              "      <td>M</td>\n",
              "      <td>student</td>\n",
              "      <td>60089</td>\n",
              "      <td>Sliding Doors (1998)</td>\n",
              "    </tr>\n",
              "    <tr>\n",
              "      <th>99998</th>\n",
              "      <td>896</td>\n",
              "      <td>1681</td>\n",
              "      <td>3</td>\n",
              "      <td>887160722</td>\n",
              "      <td>28</td>\n",
              "      <td>M</td>\n",
              "      <td>writer</td>\n",
              "      <td>91505</td>\n",
              "      <td>You So Crazy (1994)</td>\n",
              "    </tr>\n",
              "    <tr>\n",
              "      <th>99999</th>\n",
              "      <td>916</td>\n",
              "      <td>1682</td>\n",
              "      <td>3</td>\n",
              "      <td>880845755</td>\n",
              "      <td>27</td>\n",
              "      <td>M</td>\n",
              "      <td>engineer</td>\n",
              "      <td>N2L5N</td>\n",
              "      <td>Scream of Stone (Schrei aus Stein) (1991)</td>\n",
              "    </tr>\n",
              "  </tbody>\n",
              "</table>\n",
              "<p>100000 rows × 9 columns</p>\n",
              "</div>"
            ],
            "text/plain": [
              "       user_id  movie_id  ...    zip                                      title\n",
              "0          196       242  ...  55105                               Kolya (1996)\n",
              "1          305       242  ...  94086                               Kolya (1996)\n",
              "2            6       242  ...  98101                               Kolya (1996)\n",
              "3          234       242  ...  94702                               Kolya (1996)\n",
              "4           63       242  ...  75240                               Kolya (1996)\n",
              "...        ...       ...  ...    ...                                        ...\n",
              "99995      863      1679  ...  60089                           B. Monkey (1998)\n",
              "99996      863      1678  ...  60089                          Mat' i syn (1997)\n",
              "99997      863      1680  ...  60089                       Sliding Doors (1998)\n",
              "99998      896      1681  ...  91505                        You So Crazy (1994)\n",
              "99999      916      1682  ...  N2L5N  Scream of Stone (Schrei aus Stein) (1991)\n",
              "\n",
              "[100000 rows x 9 columns]"
            ]
          },
          "metadata": {},
          "execution_count": 16
        }
      ]
    },
    {
      "cell_type": "code",
      "metadata": {
        "id": "rH4GnGfMgpNF"
      },
      "source": [
        "avg_ratings = df.pivot_table(index ='title',values='rating')"
      ],
      "execution_count": null,
      "outputs": []
    },
    {
      "cell_type": "code",
      "metadata": {
        "id": "66SgN8eMg0xl",
        "colab": {
          "base_uri": "https://localhost:8080/",
          "height": 455
        },
        "outputId": "68e5cf54-03bb-46cb-c0d7-fc778a403cfa"
      },
      "source": [
        "avg_ratings[100:200]"
      ],
      "execution_count": null,
      "outputs": [
        {
          "output_type": "execute_result",
          "data": {
            "text/html": [
              "<div>\n",
              "<style scoped>\n",
              "    .dataframe tbody tr th:only-of-type {\n",
              "        vertical-align: middle;\n",
              "    }\n",
              "\n",
              "    .dataframe tbody tr th {\n",
              "        vertical-align: top;\n",
              "    }\n",
              "\n",
              "    .dataframe thead th {\n",
              "        text-align: right;\n",
              "    }\n",
              "</style>\n",
              "<table border=\"1\" class=\"dataframe\">\n",
              "  <thead>\n",
              "    <tr style=\"text-align: right;\">\n",
              "      <th></th>\n",
              "      <th>rating</th>\n",
              "    </tr>\n",
              "    <tr>\n",
              "      <th>title</th>\n",
              "      <th></th>\n",
              "    </tr>\n",
              "  </thead>\n",
              "  <tbody>\n",
              "    <tr>\n",
              "      <th>Assignment, The (1997)</th>\n",
              "      <td>3.500000</td>\n",
              "    </tr>\n",
              "    <tr>\n",
              "      <th>Associate, The (1996)</th>\n",
              "      <td>3.243902</td>\n",
              "    </tr>\n",
              "    <tr>\n",
              "      <th>Audrey Rose (1977)</th>\n",
              "      <td>2.166667</td>\n",
              "    </tr>\n",
              "    <tr>\n",
              "      <th>August (1996)</th>\n",
              "      <td>1.000000</td>\n",
              "    </tr>\n",
              "    <tr>\n",
              "      <th>Austin Powers: International Man of Mystery (1997)</th>\n",
              "      <td>3.246154</td>\n",
              "    </tr>\n",
              "    <tr>\n",
              "      <th>...</th>\n",
              "      <td>...</td>\n",
              "    </tr>\n",
              "    <tr>\n",
              "      <th>Blue Chips (1994)</th>\n",
              "      <td>2.666667</td>\n",
              "    </tr>\n",
              "    <tr>\n",
              "      <th>Blue Sky (1994)</th>\n",
              "      <td>3.416667</td>\n",
              "    </tr>\n",
              "    <tr>\n",
              "      <th>Blue in the Face (1995)</th>\n",
              "      <td>3.177778</td>\n",
              "    </tr>\n",
              "    <tr>\n",
              "      <th>Blues Brothers 2000 (1998)</th>\n",
              "      <td>2.821429</td>\n",
              "    </tr>\n",
              "    <tr>\n",
              "      <th>Blues Brothers, The (1980)</th>\n",
              "      <td>3.836653</td>\n",
              "    </tr>\n",
              "  </tbody>\n",
              "</table>\n",
              "<p>100 rows × 1 columns</p>\n",
              "</div>"
            ],
            "text/plain": [
              "                                                      rating\n",
              "title                                                       \n",
              "Assignment, The (1997)                              3.500000\n",
              "Associate, The (1996)                               3.243902\n",
              "Audrey Rose (1977)                                  2.166667\n",
              "August (1996)                                       1.000000\n",
              "Austin Powers: International Man of Mystery (1997)  3.246154\n",
              "...                                                      ...\n",
              "Blue Chips (1994)                                   2.666667\n",
              "Blue Sky (1994)                                     3.416667\n",
              "Blue in the Face (1995)                             3.177778\n",
              "Blues Brothers 2000 (1998)                          2.821429\n",
              "Blues Brothers, The (1980)                          3.836653\n",
              "\n",
              "[100 rows x 1 columns]"
            ]
          },
          "metadata": {},
          "execution_count": 18
        }
      ]
    },
    {
      "cell_type": "code",
      "metadata": {
        "id": "Z7zPtyeCfgIF"
      },
      "source": [
        "number_ratings = df.groupby('title').size()"
      ],
      "execution_count": null,
      "outputs": []
    },
    {
      "cell_type": "code",
      "metadata": {
        "colab": {
          "base_uri": "https://localhost:8080/"
        },
        "id": "p6Zo8jolggix",
        "outputId": "0cc2b952-a25b-41e1-b92b-3177d7de42b1"
      },
      "source": [
        "number_ratings[100:105]"
      ],
      "execution_count": null,
      "outputs": [
        {
          "output_type": "execute_result",
          "data": {
            "text/plain": [
              "title\n",
              "Assignment, The (1997)                                 18\n",
              "Associate, The (1996)                                  41\n",
              "Audrey Rose (1977)                                     12\n",
              "August (1996)                                           1\n",
              "Austin Powers: International Man of Mystery (1997)    130\n",
              "dtype: int64"
            ]
          },
          "metadata": {},
          "execution_count": 20
        }
      ]
    },
    {
      "cell_type": "code",
      "metadata": {
        "id": "uTi1KTEQg5D2"
      },
      "source": [
        "avg_by_gender = df.pivot_table(index = 'title',columns='gender',values='rating')"
      ],
      "execution_count": null,
      "outputs": []
    },
    {
      "cell_type": "code",
      "metadata": {
        "colab": {
          "base_uri": "https://localhost:8080/",
          "height": 455
        },
        "id": "rhfYS-MXhIgQ",
        "outputId": "14cbf341-e67f-4d7c-bc42-6f319030a4c3"
      },
      "source": [
        "avg_by_gender[100:200]"
      ],
      "execution_count": null,
      "outputs": [
        {
          "output_type": "execute_result",
          "data": {
            "text/html": [
              "<div>\n",
              "<style scoped>\n",
              "    .dataframe tbody tr th:only-of-type {\n",
              "        vertical-align: middle;\n",
              "    }\n",
              "\n",
              "    .dataframe tbody tr th {\n",
              "        vertical-align: top;\n",
              "    }\n",
              "\n",
              "    .dataframe thead th {\n",
              "        text-align: right;\n",
              "    }\n",
              "</style>\n",
              "<table border=\"1\" class=\"dataframe\">\n",
              "  <thead>\n",
              "    <tr style=\"text-align: right;\">\n",
              "      <th>gender</th>\n",
              "      <th>F</th>\n",
              "      <th>M</th>\n",
              "    </tr>\n",
              "    <tr>\n",
              "      <th>title</th>\n",
              "      <th></th>\n",
              "      <th></th>\n",
              "    </tr>\n",
              "  </thead>\n",
              "  <tbody>\n",
              "    <tr>\n",
              "      <th>Assignment, The (1997)</th>\n",
              "      <td>3.000000</td>\n",
              "      <td>3.750000</td>\n",
              "    </tr>\n",
              "    <tr>\n",
              "      <th>Associate, The (1996)</th>\n",
              "      <td>3.923077</td>\n",
              "      <td>2.928571</td>\n",
              "    </tr>\n",
              "    <tr>\n",
              "      <th>Audrey Rose (1977)</th>\n",
              "      <td>2.000000</td>\n",
              "      <td>2.222222</td>\n",
              "    </tr>\n",
              "    <tr>\n",
              "      <th>August (1996)</th>\n",
              "      <td>NaN</td>\n",
              "      <td>1.000000</td>\n",
              "    </tr>\n",
              "    <tr>\n",
              "      <th>Austin Powers: International Man of Mystery (1997)</th>\n",
              "      <td>3.000000</td>\n",
              "      <td>3.316832</td>\n",
              "    </tr>\n",
              "    <tr>\n",
              "      <th>...</th>\n",
              "      <td>...</td>\n",
              "      <td>...</td>\n",
              "    </tr>\n",
              "    <tr>\n",
              "      <th>Blue Chips (1994)</th>\n",
              "      <td>3.000000</td>\n",
              "      <td>2.571429</td>\n",
              "    </tr>\n",
              "    <tr>\n",
              "      <th>Blue Sky (1994)</th>\n",
              "      <td>3.750000</td>\n",
              "      <td>3.250000</td>\n",
              "    </tr>\n",
              "    <tr>\n",
              "      <th>Blue in the Face (1995)</th>\n",
              "      <td>2.700000</td>\n",
              "      <td>3.314286</td>\n",
              "    </tr>\n",
              "    <tr>\n",
              "      <th>Blues Brothers 2000 (1998)</th>\n",
              "      <td>2.111111</td>\n",
              "      <td>3.157895</td>\n",
              "    </tr>\n",
              "    <tr>\n",
              "      <th>Blues Brothers, The (1980)</th>\n",
              "      <td>3.782609</td>\n",
              "      <td>3.848780</td>\n",
              "    </tr>\n",
              "  </tbody>\n",
              "</table>\n",
              "<p>100 rows × 2 columns</p>\n",
              "</div>"
            ],
            "text/plain": [
              "gender                                                     F         M\n",
              "title                                                                 \n",
              "Assignment, The (1997)                              3.000000  3.750000\n",
              "Associate, The (1996)                               3.923077  2.928571\n",
              "Audrey Rose (1977)                                  2.000000  2.222222\n",
              "August (1996)                                            NaN  1.000000\n",
              "Austin Powers: International Man of Mystery (1997)  3.000000  3.316832\n",
              "...                                                      ...       ...\n",
              "Blue Chips (1994)                                   3.000000  2.571429\n",
              "Blue Sky (1994)                                     3.750000  3.250000\n",
              "Blue in the Face (1995)                             2.700000  3.314286\n",
              "Blues Brothers 2000 (1998)                          2.111111  3.157895\n",
              "Blues Brothers, The (1980)                          3.782609  3.848780\n",
              "\n",
              "[100 rows x 2 columns]"
            ]
          },
          "metadata": {},
          "execution_count": 22
        }
      ]
    },
    {
      "cell_type": "code",
      "metadata": {
        "id": "5O2wgQCch9Yh"
      },
      "source": [
        "active_titles = number_ratings.index[number_ratings >100]"
      ],
      "execution_count": null,
      "outputs": []
    },
    {
      "cell_type": "code",
      "metadata": {
        "colab": {
          "base_uri": "https://localhost:8080/"
        },
        "id": "cBKOQIlXiEBa",
        "outputId": "47832a3a-74c3-4b8e-eb0b-072847b66606"
      },
      "source": [
        "active_titles"
      ],
      "execution_count": null,
      "outputs": [
        {
          "output_type": "execute_result",
          "data": {
            "text/plain": [
              "Index(['101 Dalmatians (1996)', '12 Angry Men (1957)',\n",
              "       '2001: A Space Odyssey (1968)', 'Absolute Power (1997)',\n",
              "       'Abyss, The (1989)', 'Ace Ventura: Pet Detective (1994)',\n",
              "       'Adventures of Priscilla, Queen of the Desert, The (1994)',\n",
              "       'African Queen, The (1951)', 'Air Force One (1997)', 'Aladdin (1992)',\n",
              "       ...\n",
              "       'Welcome to the Dollhouse (1995)', 'What's Eating Gilbert Grape (1993)',\n",
              "       'When Harry Met Sally... (1989)', 'While You Were Sleeping (1995)',\n",
              "       'William Shakespeare's Romeo and Juliet (1996)',\n",
              "       'Willy Wonka and the Chocolate Factory (1971)',\n",
              "       'Wizard of Oz, The (1939)', 'Wrong Trousers, The (1993)',\n",
              "       'Young Frankenstein (1974)', 'Young Guns (1988)'],\n",
              "      dtype='object', name='title', length=334)"
            ]
          },
          "metadata": {},
          "execution_count": 24
        }
      ]
    },
    {
      "cell_type": "code",
      "metadata": {
        "id": "jjQN6Jexiuhd"
      },
      "source": [
        "mean_ratings = avg_ratings.loc[active_titles]"
      ],
      "execution_count": null,
      "outputs": []
    },
    {
      "cell_type": "code",
      "metadata": {
        "id": "6hrKO4m3i-Ew",
        "colab": {
          "base_uri": "https://localhost:8080/",
          "height": 455
        },
        "outputId": "d18bba35-f50e-46e2-dde2-f64cf3a9c649"
      },
      "source": [
        "mean_ratings"
      ],
      "execution_count": null,
      "outputs": [
        {
          "output_type": "execute_result",
          "data": {
            "text/html": [
              "<div>\n",
              "<style scoped>\n",
              "    .dataframe tbody tr th:only-of-type {\n",
              "        vertical-align: middle;\n",
              "    }\n",
              "\n",
              "    .dataframe tbody tr th {\n",
              "        vertical-align: top;\n",
              "    }\n",
              "\n",
              "    .dataframe thead th {\n",
              "        text-align: right;\n",
              "    }\n",
              "</style>\n",
              "<table border=\"1\" class=\"dataframe\">\n",
              "  <thead>\n",
              "    <tr style=\"text-align: right;\">\n",
              "      <th></th>\n",
              "      <th>rating</th>\n",
              "    </tr>\n",
              "    <tr>\n",
              "      <th>title</th>\n",
              "      <th></th>\n",
              "    </tr>\n",
              "  </thead>\n",
              "  <tbody>\n",
              "    <tr>\n",
              "      <th>101 Dalmatians (1996)</th>\n",
              "      <td>2.908257</td>\n",
              "    </tr>\n",
              "    <tr>\n",
              "      <th>12 Angry Men (1957)</th>\n",
              "      <td>4.344000</td>\n",
              "    </tr>\n",
              "    <tr>\n",
              "      <th>2001: A Space Odyssey (1968)</th>\n",
              "      <td>3.969112</td>\n",
              "    </tr>\n",
              "    <tr>\n",
              "      <th>Absolute Power (1997)</th>\n",
              "      <td>3.370079</td>\n",
              "    </tr>\n",
              "    <tr>\n",
              "      <th>Abyss, The (1989)</th>\n",
              "      <td>3.589404</td>\n",
              "    </tr>\n",
              "    <tr>\n",
              "      <th>...</th>\n",
              "      <td>...</td>\n",
              "    </tr>\n",
              "    <tr>\n",
              "      <th>Willy Wonka and the Chocolate Factory (1971)</th>\n",
              "      <td>3.631902</td>\n",
              "    </tr>\n",
              "    <tr>\n",
              "      <th>Wizard of Oz, The (1939)</th>\n",
              "      <td>4.077236</td>\n",
              "    </tr>\n",
              "    <tr>\n",
              "      <th>Wrong Trousers, The (1993)</th>\n",
              "      <td>4.466102</td>\n",
              "    </tr>\n",
              "    <tr>\n",
              "      <th>Young Frankenstein (1974)</th>\n",
              "      <td>3.945000</td>\n",
              "    </tr>\n",
              "    <tr>\n",
              "      <th>Young Guns (1988)</th>\n",
              "      <td>3.207921</td>\n",
              "    </tr>\n",
              "  </tbody>\n",
              "</table>\n",
              "<p>334 rows × 1 columns</p>\n",
              "</div>"
            ],
            "text/plain": [
              "                                                rating\n",
              "title                                                 \n",
              "101 Dalmatians (1996)                         2.908257\n",
              "12 Angry Men (1957)                           4.344000\n",
              "2001: A Space Odyssey (1968)                  3.969112\n",
              "Absolute Power (1997)                         3.370079\n",
              "Abyss, The (1989)                             3.589404\n",
              "...                                                ...\n",
              "Willy Wonka and the Chocolate Factory (1971)  3.631902\n",
              "Wizard of Oz, The (1939)                      4.077236\n",
              "Wrong Trousers, The (1993)                    4.466102\n",
              "Young Frankenstein (1974)                     3.945000\n",
              "Young Guns (1988)                             3.207921\n",
              "\n",
              "[334 rows x 1 columns]"
            ]
          },
          "metadata": {},
          "execution_count": 26
        }
      ]
    },
    {
      "cell_type": "code",
      "metadata": {
        "id": "n2--sSOHjoqW"
      },
      "source": [
        "avg_by_gender = avg_by_gender.loc[active_titles]"
      ],
      "execution_count": null,
      "outputs": []
    },
    {
      "cell_type": "code",
      "metadata": {
        "id": "iPh28_6-kXVt",
        "colab": {
          "base_uri": "https://localhost:8080/",
          "height": 455
        },
        "outputId": "e2dee40a-329f-4603-fa71-06bef9ba7877"
      },
      "source": [
        "avg_by_gender"
      ],
      "execution_count": null,
      "outputs": [
        {
          "output_type": "execute_result",
          "data": {
            "text/html": [
              "<div>\n",
              "<style scoped>\n",
              "    .dataframe tbody tr th:only-of-type {\n",
              "        vertical-align: middle;\n",
              "    }\n",
              "\n",
              "    .dataframe tbody tr th {\n",
              "        vertical-align: top;\n",
              "    }\n",
              "\n",
              "    .dataframe thead th {\n",
              "        text-align: right;\n",
              "    }\n",
              "</style>\n",
              "<table border=\"1\" class=\"dataframe\">\n",
              "  <thead>\n",
              "    <tr style=\"text-align: right;\">\n",
              "      <th>gender</th>\n",
              "      <th>F</th>\n",
              "      <th>M</th>\n",
              "    </tr>\n",
              "    <tr>\n",
              "      <th>title</th>\n",
              "      <th></th>\n",
              "      <th></th>\n",
              "    </tr>\n",
              "  </thead>\n",
              "  <tbody>\n",
              "    <tr>\n",
              "      <th>101 Dalmatians (1996)</th>\n",
              "      <td>3.116279</td>\n",
              "      <td>2.772727</td>\n",
              "    </tr>\n",
              "    <tr>\n",
              "      <th>12 Angry Men (1957)</th>\n",
              "      <td>4.269231</td>\n",
              "      <td>4.363636</td>\n",
              "    </tr>\n",
              "    <tr>\n",
              "      <th>2001: A Space Odyssey (1968)</th>\n",
              "      <td>3.491228</td>\n",
              "      <td>4.103960</td>\n",
              "    </tr>\n",
              "    <tr>\n",
              "      <th>Absolute Power (1997)</th>\n",
              "      <td>3.451613</td>\n",
              "      <td>3.343750</td>\n",
              "    </tr>\n",
              "    <tr>\n",
              "      <th>Abyss, The (1989)</th>\n",
              "      <td>3.814815</td>\n",
              "      <td>3.540323</td>\n",
              "    </tr>\n",
              "    <tr>\n",
              "      <th>...</th>\n",
              "      <td>...</td>\n",
              "      <td>...</td>\n",
              "    </tr>\n",
              "    <tr>\n",
              "      <th>Willy Wonka and the Chocolate Factory (1971)</th>\n",
              "      <td>3.752688</td>\n",
              "      <td>3.583691</td>\n",
              "    </tr>\n",
              "    <tr>\n",
              "      <th>Wizard of Oz, The (1939)</th>\n",
              "      <td>4.159420</td>\n",
              "      <td>4.045198</td>\n",
              "    </tr>\n",
              "    <tr>\n",
              "      <th>Wrong Trousers, The (1993)</th>\n",
              "      <td>4.444444</td>\n",
              "      <td>4.472527</td>\n",
              "    </tr>\n",
              "    <tr>\n",
              "      <th>Young Frankenstein (1974)</th>\n",
              "      <td>4.023810</td>\n",
              "      <td>3.924051</td>\n",
              "    </tr>\n",
              "    <tr>\n",
              "      <th>Young Guns (1988)</th>\n",
              "      <td>3.230769</td>\n",
              "      <td>3.204545</td>\n",
              "    </tr>\n",
              "  </tbody>\n",
              "</table>\n",
              "<p>334 rows × 2 columns</p>\n",
              "</div>"
            ],
            "text/plain": [
              "gender                                               F         M\n",
              "title                                                           \n",
              "101 Dalmatians (1996)                         3.116279  2.772727\n",
              "12 Angry Men (1957)                           4.269231  4.363636\n",
              "2001: A Space Odyssey (1968)                  3.491228  4.103960\n",
              "Absolute Power (1997)                         3.451613  3.343750\n",
              "Abyss, The (1989)                             3.814815  3.540323\n",
              "...                                                ...       ...\n",
              "Willy Wonka and the Chocolate Factory (1971)  3.752688  3.583691\n",
              "Wizard of Oz, The (1939)                      4.159420  4.045198\n",
              "Wrong Trousers, The (1993)                    4.444444  4.472527\n",
              "Young Frankenstein (1974)                     4.023810  3.924051\n",
              "Young Guns (1988)                             3.230769  3.204545\n",
              "\n",
              "[334 rows x 2 columns]"
            ]
          },
          "metadata": {},
          "execution_count": 28
        }
      ]
    },
    {
      "cell_type": "code",
      "metadata": {
        "id": "VftcsvQ2kZ8r"
      },
      "source": [
        "top_male = avg_by_gender.sort_values(by='M', ascending= False)"
      ],
      "execution_count": null,
      "outputs": []
    },
    {
      "cell_type": "code",
      "metadata": {
        "colab": {
          "base_uri": "https://localhost:8080/",
          "height": 455
        },
        "id": "zDl08-ZclvYy",
        "outputId": "af68b5bd-8839-4cf7-c71f-11be18996d1b"
      },
      "source": [
        "avg_by_gender['diff']=avg_by_gender['F'] - avg_by_gender['M']\n",
        "avg_by_gender"
      ],
      "execution_count": null,
      "outputs": [
        {
          "output_type": "execute_result",
          "data": {
            "text/html": [
              "<div>\n",
              "<style scoped>\n",
              "    .dataframe tbody tr th:only-of-type {\n",
              "        vertical-align: middle;\n",
              "    }\n",
              "\n",
              "    .dataframe tbody tr th {\n",
              "        vertical-align: top;\n",
              "    }\n",
              "\n",
              "    .dataframe thead th {\n",
              "        text-align: right;\n",
              "    }\n",
              "</style>\n",
              "<table border=\"1\" class=\"dataframe\">\n",
              "  <thead>\n",
              "    <tr style=\"text-align: right;\">\n",
              "      <th>gender</th>\n",
              "      <th>F</th>\n",
              "      <th>M</th>\n",
              "      <th>diff</th>\n",
              "    </tr>\n",
              "    <tr>\n",
              "      <th>title</th>\n",
              "      <th></th>\n",
              "      <th></th>\n",
              "      <th></th>\n",
              "    </tr>\n",
              "  </thead>\n",
              "  <tbody>\n",
              "    <tr>\n",
              "      <th>101 Dalmatians (1996)</th>\n",
              "      <td>3.116279</td>\n",
              "      <td>2.772727</td>\n",
              "      <td>0.343552</td>\n",
              "    </tr>\n",
              "    <tr>\n",
              "      <th>12 Angry Men (1957)</th>\n",
              "      <td>4.269231</td>\n",
              "      <td>4.363636</td>\n",
              "      <td>-0.094406</td>\n",
              "    </tr>\n",
              "    <tr>\n",
              "      <th>2001: A Space Odyssey (1968)</th>\n",
              "      <td>3.491228</td>\n",
              "      <td>4.103960</td>\n",
              "      <td>-0.612732</td>\n",
              "    </tr>\n",
              "    <tr>\n",
              "      <th>Absolute Power (1997)</th>\n",
              "      <td>3.451613</td>\n",
              "      <td>3.343750</td>\n",
              "      <td>0.107863</td>\n",
              "    </tr>\n",
              "    <tr>\n",
              "      <th>Abyss, The (1989)</th>\n",
              "      <td>3.814815</td>\n",
              "      <td>3.540323</td>\n",
              "      <td>0.274492</td>\n",
              "    </tr>\n",
              "    <tr>\n",
              "      <th>...</th>\n",
              "      <td>...</td>\n",
              "      <td>...</td>\n",
              "      <td>...</td>\n",
              "    </tr>\n",
              "    <tr>\n",
              "      <th>Willy Wonka and the Chocolate Factory (1971)</th>\n",
              "      <td>3.752688</td>\n",
              "      <td>3.583691</td>\n",
              "      <td>0.168997</td>\n",
              "    </tr>\n",
              "    <tr>\n",
              "      <th>Wizard of Oz, The (1939)</th>\n",
              "      <td>4.159420</td>\n",
              "      <td>4.045198</td>\n",
              "      <td>0.114223</td>\n",
              "    </tr>\n",
              "    <tr>\n",
              "      <th>Wrong Trousers, The (1993)</th>\n",
              "      <td>4.444444</td>\n",
              "      <td>4.472527</td>\n",
              "      <td>-0.028083</td>\n",
              "    </tr>\n",
              "    <tr>\n",
              "      <th>Young Frankenstein (1974)</th>\n",
              "      <td>4.023810</td>\n",
              "      <td>3.924051</td>\n",
              "      <td>0.099759</td>\n",
              "    </tr>\n",
              "    <tr>\n",
              "      <th>Young Guns (1988)</th>\n",
              "      <td>3.230769</td>\n",
              "      <td>3.204545</td>\n",
              "      <td>0.026224</td>\n",
              "    </tr>\n",
              "  </tbody>\n",
              "</table>\n",
              "<p>334 rows × 3 columns</p>\n",
              "</div>"
            ],
            "text/plain": [
              "gender                                               F         M      diff\n",
              "title                                                                     \n",
              "101 Dalmatians (1996)                         3.116279  2.772727  0.343552\n",
              "12 Angry Men (1957)                           4.269231  4.363636 -0.094406\n",
              "2001: A Space Odyssey (1968)                  3.491228  4.103960 -0.612732\n",
              "Absolute Power (1997)                         3.451613  3.343750  0.107863\n",
              "Abyss, The (1989)                             3.814815  3.540323  0.274492\n",
              "...                                                ...       ...       ...\n",
              "Willy Wonka and the Chocolate Factory (1971)  3.752688  3.583691  0.168997\n",
              "Wizard of Oz, The (1939)                      4.159420  4.045198  0.114223\n",
              "Wrong Trousers, The (1993)                    4.444444  4.472527 -0.028083\n",
              "Young Frankenstein (1974)                     4.023810  3.924051  0.099759\n",
              "Young Guns (1988)                             3.230769  3.204545  0.026224\n",
              "\n",
              "[334 rows x 3 columns]"
            ]
          },
          "metadata": {},
          "execution_count": 30
        }
      ]
    },
    {
      "cell_type": "code",
      "metadata": {
        "colab": {
          "base_uri": "https://localhost:8080/",
          "height": 455
        },
        "id": "aEHBpYwXl_zu",
        "outputId": "e2bb86ee-d7af-442a-8816-b3f848d50d7a"
      },
      "source": [
        "avg_by_gender.sort_values(by='diff',ascending=False)"
      ],
      "execution_count": null,
      "outputs": [
        {
          "output_type": "execute_result",
          "data": {
            "text/html": [
              "<div>\n",
              "<style scoped>\n",
              "    .dataframe tbody tr th:only-of-type {\n",
              "        vertical-align: middle;\n",
              "    }\n",
              "\n",
              "    .dataframe tbody tr th {\n",
              "        vertical-align: top;\n",
              "    }\n",
              "\n",
              "    .dataframe thead th {\n",
              "        text-align: right;\n",
              "    }\n",
              "</style>\n",
              "<table border=\"1\" class=\"dataframe\">\n",
              "  <thead>\n",
              "    <tr style=\"text-align: right;\">\n",
              "      <th>gender</th>\n",
              "      <th>F</th>\n",
              "      <th>M</th>\n",
              "      <th>diff</th>\n",
              "    </tr>\n",
              "    <tr>\n",
              "      <th>title</th>\n",
              "      <th></th>\n",
              "      <th></th>\n",
              "      <th></th>\n",
              "    </tr>\n",
              "  </thead>\n",
              "  <tbody>\n",
              "    <tr>\n",
              "      <th>First Wives Club, The (1996)</th>\n",
              "      <td>3.491525</td>\n",
              "      <td>2.742574</td>\n",
              "      <td>0.748951</td>\n",
              "    </tr>\n",
              "    <tr>\n",
              "      <th>My Fair Lady (1964)</th>\n",
              "      <td>4.238095</td>\n",
              "      <td>3.602410</td>\n",
              "      <td>0.635686</td>\n",
              "    </tr>\n",
              "    <tr>\n",
              "      <th>Batman Forever (1995)</th>\n",
              "      <td>3.173913</td>\n",
              "      <td>2.538462</td>\n",
              "      <td>0.635452</td>\n",
              "    </tr>\n",
              "    <tr>\n",
              "      <th>Net, The (1995)</th>\n",
              "      <td>3.482759</td>\n",
              "      <td>2.857143</td>\n",
              "      <td>0.625616</td>\n",
              "    </tr>\n",
              "    <tr>\n",
              "      <th>Grease (1978)</th>\n",
              "      <td>3.754386</td>\n",
              "      <td>3.141593</td>\n",
              "      <td>0.612793</td>\n",
              "    </tr>\n",
              "    <tr>\n",
              "      <th>...</th>\n",
              "      <td>...</td>\n",
              "      <td>...</td>\n",
              "      <td>...</td>\n",
              "    </tr>\n",
              "    <tr>\n",
              "      <th>Bridge on the River Kwai, The (1957)</th>\n",
              "      <td>3.685714</td>\n",
              "      <td>4.307692</td>\n",
              "      <td>-0.621978</td>\n",
              "    </tr>\n",
              "    <tr>\n",
              "      <th>Waterworld (1995)</th>\n",
              "      <td>2.263158</td>\n",
              "      <td>2.927711</td>\n",
              "      <td>-0.664553</td>\n",
              "    </tr>\n",
              "    <tr>\n",
              "      <th>Reservoir Dogs (1992)</th>\n",
              "      <td>3.433333</td>\n",
              "      <td>4.127119</td>\n",
              "      <td>-0.693785</td>\n",
              "    </tr>\n",
              "    <tr>\n",
              "      <th>True Romance (1993)</th>\n",
              "      <td>3.000000</td>\n",
              "      <td>3.727273</td>\n",
              "      <td>-0.727273</td>\n",
              "    </tr>\n",
              "    <tr>\n",
              "      <th>Good, The Bad and The Ugly, The (1966)</th>\n",
              "      <td>3.187500</td>\n",
              "      <td>3.950413</td>\n",
              "      <td>-0.762913</td>\n",
              "    </tr>\n",
              "  </tbody>\n",
              "</table>\n",
              "<p>334 rows × 3 columns</p>\n",
              "</div>"
            ],
            "text/plain": [
              "gender                                         F         M      diff\n",
              "title                                                               \n",
              "First Wives Club, The (1996)            3.491525  2.742574  0.748951\n",
              "My Fair Lady (1964)                     4.238095  3.602410  0.635686\n",
              "Batman Forever (1995)                   3.173913  2.538462  0.635452\n",
              "Net, The (1995)                         3.482759  2.857143  0.625616\n",
              "Grease (1978)                           3.754386  3.141593  0.612793\n",
              "...                                          ...       ...       ...\n",
              "Bridge on the River Kwai, The (1957)    3.685714  4.307692 -0.621978\n",
              "Waterworld (1995)                       2.263158  2.927711 -0.664553\n",
              "Reservoir Dogs (1992)                   3.433333  4.127119 -0.693785\n",
              "True Romance (1993)                     3.000000  3.727273 -0.727273\n",
              "Good, The Bad and The Ugly, The (1966)  3.187500  3.950413 -0.762913\n",
              "\n",
              "[334 rows x 3 columns]"
            ]
          },
          "metadata": {},
          "execution_count": 31
        }
      ]
    }
  ]
}