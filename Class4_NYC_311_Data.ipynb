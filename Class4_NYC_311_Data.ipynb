{
  "nbformat": 4,
  "nbformat_minor": 0,
  "metadata": {
    "colab": {
      "provenance": [],
      "include_colab_link": true
    },
    "kernelspec": {
      "name": "python3",
      "display_name": "Python 3"
    },
    "language_info": {
      "name": "python"
    }
  },
  "cells": [
    {
      "cell_type": "markdown",
      "metadata": {
        "id": "view-in-github",
        "colab_type": "text"
      },
      "source": [
        "<a href=\"https://colab.research.google.com/github/langkh/colabProjects/blob/main/Class4_NYC_311_Data.ipynb\" target=\"_parent\"><img src=\"https://colab.research.google.com/assets/colab-badge.svg\" alt=\"Open In Colab\"/></a>"
      ]
    },
    {
      "cell_type": "code",
      "metadata": {
        "id": "cgylp4ZdMy7f"
      },
      "source": [
        "import pandas as pd"
      ],
      "execution_count": null,
      "outputs": []
    },
    {
      "cell_type": "code",
      "metadata": {
        "id": "DNN7R4PGNczM"
      },
      "source": [
        "path = \"https://raw.githubusercontent.com/yumio/data/main/311-service-requests.csv\""
      ],
      "execution_count": null,
      "outputs": []
    },
    {
      "cell_type": "code",
      "metadata": {
        "colab": {
          "base_uri": "https://localhost:8080/"
        },
        "id": "Ri0leN5WN8O8",
        "outputId": "91642cc8-dee5-4227-dc9f-fcbbab7fb269"
      },
      "source": [
        "df = pd.read_csv(path)"
      ],
      "execution_count": null,
      "outputs": [
        {
          "output_type": "stream",
          "name": "stderr",
          "text": [
            "/usr/local/lib/python3.7/dist-packages/IPython/core/interactiveshell.py:2718: DtypeWarning: Columns (8) have mixed types.Specify dtype option on import or set low_memory=False.\n",
            "  interactivity=interactivity, compiler=compiler, result=result)\n"
          ]
        }
      ]
    },
    {
      "cell_type": "code",
      "metadata": {
        "id": "hXtsF3QvO1-Z"
      },
      "source": [
        "df"
      ],
      "execution_count": null,
      "outputs": []
    },
    {
      "cell_type": "markdown",
      "metadata": {
        "id": "VxGOl6D9PCBl"
      },
      "source": [
        "Aggregate\n",
        "Filtering\n",
        "Sorting"
      ]
    },
    {
      "cell_type": "code",
      "metadata": {
        "id": "VeJkqAU0QCiZ"
      },
      "source": [
        "df.info()"
      ],
      "execution_count": null,
      "outputs": []
    },
    {
      "cell_type": "code",
      "metadata": {
        "id": "AHPRIbWEST7p"
      },
      "source": [
        "#pd.set_option('display.max_rows',None)\n",
        "pd.reset_option('display.max_rows',None)"
      ],
      "execution_count": null,
      "outputs": []
    },
    {
      "cell_type": "code",
      "metadata": {
        "colab": {
          "base_uri": "https://localhost:8080/"
        },
        "id": "q5cskgTvR7mQ",
        "outputId": "3693b2d7-194b-4b86-f771-90e09f6df83d"
      },
      "source": [
        "df['Complaint Type'].value_counts()"
      ],
      "execution_count": null,
      "outputs": [
        {
          "output_type": "execute_result",
          "data": {
            "text/plain": [
              "HEATING                    14200\n",
              "GENERAL CONSTRUCTION        7471\n",
              "Street Light Condition      7117\n",
              "DOF Literature Request      5797\n",
              "PLUMBING                    5373\n",
              "                           ...  \n",
              "Trans Fat                      1\n",
              "Open Flame Permit              1\n",
              "Stalled Sites                  1\n",
              "X-Ray Machine/Equipment        1\n",
              "Highway Sign - Damaged         1\n",
              "Name: Complaint Type, Length: 165, dtype: int64"
            ]
          },
          "metadata": {},
          "execution_count": 36
        }
      ]
    },
    {
      "cell_type": "code",
      "metadata": {
        "colab": {
          "base_uri": "https://localhost:8080/"
        },
        "id": "esZSmj5XTXF5",
        "outputId": "80c89af6-0a1e-4471-d285-e11e19fdf8f2"
      },
      "source": [
        "df['Borough'].value_counts()"
      ],
      "execution_count": null,
      "outputs": [
        {
          "output_type": "execute_result",
          "data": {
            "text/plain": [
              "BROOKLYN         32890\n",
              "MANHATTAN        24288\n",
              "QUEENS           22281\n",
              "BRONX            19686\n",
              "Unspecified       7107\n",
              "STATEN ISLAND     4817\n",
              "Name: Borough, dtype: int64"
            ]
          },
          "metadata": {},
          "execution_count": 28
        }
      ]
    },
    {
      "cell_type": "code",
      "metadata": {
        "id": "Hi31ASDUVgW6"
      },
      "source": [
        "population = {'BRONX':1472654,'BROOKLYN':2736074,'MANHATTAN':1694251,'QUEENS':2405464,'STATEN ISLAND':495747}"
      ],
      "execution_count": null,
      "outputs": []
    },
    {
      "cell_type": "code",
      "metadata": {
        "colab": {
          "base_uri": "https://localhost:8080/"
        },
        "id": "SnxBLu4hWx-q",
        "outputId": "825ba144-fc53-455d-9433-10a56ef7546f"
      },
      "source": [
        "population[\"BRONX\"]"
      ],
      "execution_count": null,
      "outputs": [
        {
          "output_type": "execute_result",
          "data": {
            "text/plain": [
              "1472654"
            ]
          },
          "metadata": {},
          "execution_count": 18
        }
      ]
    },
    {
      "cell_type": "code",
      "metadata": {
        "id": "gbsf9N4mW2H9"
      },
      "source": [
        "df[df['Borough']=='BRONX']\n",
        "#df[df['Complaint Type']=='Rodent'&& df['Borough']=='BROOKLYN']"
      ],
      "execution_count": null,
      "outputs": []
    },
    {
      "cell_type": "code",
      "metadata": {
        "id": "LBmpL_MeZNca"
      },
      "source": [
        "complaints_by_borough = df['Borough'].value_counts()"
      ],
      "execution_count": null,
      "outputs": []
    },
    {
      "cell_type": "code",
      "metadata": {
        "colab": {
          "base_uri": "https://localhost:8080/"
        },
        "id": "_pozEBR5Z2An",
        "outputId": "7edff99f-26c5-4eaa-c038-fe2a861ac7b0"
      },
      "source": [
        "complaints_by_borough['BROOKLYN']"
      ],
      "execution_count": null,
      "outputs": [
        {
          "output_type": "execute_result",
          "data": {
            "text/plain": [
              "32890"
            ]
          },
          "metadata": {},
          "execution_count": 24
        }
      ]
    },
    {
      "cell_type": "code",
      "metadata": {
        "colab": {
          "base_uri": "https://localhost:8080/"
        },
        "id": "8pwE4_Jpa4-q",
        "outputId": "f3b2ad4d-04f2-465f-fcf6-f7bae40898f5"
      },
      "source": [
        "pct_complaints=complaints_by_borough['BROOKLYN']/population['BROOKLYN']\n",
        "pct_complaints"
      ],
      "execution_count": null,
      "outputs": [
        {
          "output_type": "execute_result",
          "data": {
            "text/plain": [
              "0.01202087370443928"
            ]
          },
          "metadata": {},
          "execution_count": 25
        }
      ]
    },
    {
      "cell_type": "code",
      "metadata": {
        "id": "Cpbz0tuybWxk"
      },
      "source": [
        "for name in population:\n",
        "  pct_complaints = complaints_by_borough[name]/population[name]\n",
        "  pct_complaints = pct_complaints *100\n",
        "  print(name + \" :\"+str(pct_complaints))"
      ],
      "execution_count": null,
      "outputs": []
    },
    {
      "cell_type": "code",
      "metadata": {
        "id": "rCGQf-Noev0-"
      },
      "source": [
        "bronx =df[df['Borough']=='BRONX']\n",
        "bronx['Complaint Type'].value_counts()"
      ],
      "execution_count": null,
      "outputs": []
    },
    {
      "cell_type": "code",
      "metadata": {
        "colab": {
          "base_uri": "https://localhost:8080/"
        },
        "id": "_VfQk_d0fPIQ",
        "outputId": "c8baa9cf-43c8-449d-8f81-f61cf4fc4e10"
      },
      "source": [
        "for name in population:\n",
        "  top5 = df[df['Borough']==name]['Complaint Type'].value_counts()\n",
        "  print()\n",
        "  print(name)\n",
        "  print(top5)"
      ],
      "execution_count": null,
      "outputs": [
        {
          "output_type": "stream",
          "name": "stdout",
          "text": [
            "\n",
            "BRONX\n",
            "HEATING                              4093\n",
            "GENERAL CONSTRUCTION                 2273\n",
            "PAINT - PLASTER                      1653\n",
            "Street Light Condition               1642\n",
            "PLUMBING                             1591\n",
            "                                     ... \n",
            "Miscellaneous Categories                1\n",
            "Poison Ivy                              1\n",
            "Transportation Provider Complaint       1\n",
            "Internal Code                           1\n",
            "Fire Alarm - Reinspection               1\n",
            "Name: Complaint Type, Length: 118, dtype: int64\n",
            "\n",
            "BROOKLYN\n",
            "HEATING                              4548\n",
            "GENERAL CONSTRUCTION                 2791\n",
            "PLUMBING                             2017\n",
            "Street Light Condition               1956\n",
            "PAINT - PLASTER                      1821\n",
            "                                     ... \n",
            "Illegal Fireworks                       1\n",
            "Scaffold Safety                         1\n",
            "Transportation Provider Complaint       1\n",
            "Fire Alarm - New System                 1\n",
            "Window Guard                            1\n",
            "Name: Complaint Type, Length: 125, dtype: int64\n",
            "\n",
            "MANHATTAN\n",
            "HEATING                  3494\n",
            "Noise                    1848\n",
            "GENERAL CONSTRUCTION     1333\n",
            "Broken Muni Meter        1312\n",
            "Noise - Commercial       1140\n",
            "                         ... \n",
            "Posting Advertisement       1\n",
            "Window Guard                1\n",
            "Tunnel Condition            1\n",
            "Curb Condition              1\n",
            "Open Flame Permit           1\n",
            "Name: Complaint Type, Length: 126, dtype: int64\n",
            "\n",
            "QUEENS\n",
            "Street Light Condition        2122\n",
            "HEATING                       1896\n",
            "Blocked Driveway              1890\n",
            "Dirty Conditions               991\n",
            "Illegal Parking                887\n",
            "                              ... \n",
            "Stalled Sites                    1\n",
            "Municipal Parking Facility       1\n",
            "Scaffold Safety                  1\n",
            "Collection Truck Noise           1\n",
            "Illegal Animal Sold              1\n",
            "Name: Complaint Type, Length: 126, dtype: int64\n",
            "\n",
            "STATEN ISLAND\n",
            "Street Light Condition            449\n",
            "Street Condition                  445\n",
            "Water System                      326\n",
            "Illegal Parking                   278\n",
            "GENERAL CONSTRUCTION              224\n",
            "                                 ... \n",
            "Non-Residential Heat                1\n",
            "City Vehicle Placard Complaint      1\n",
            "Tattooing                           1\n",
            "STRUCTURAL                          1\n",
            "Derelict Bicycle                    1\n",
            "Name: Complaint Type, Length: 100, dtype: int64\n"
          ]
        }
      ]
    }
  ]
}